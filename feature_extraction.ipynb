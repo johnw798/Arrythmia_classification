{
 "cells": [
  {
   "cell_type": "code",
   "execution_count": 16,
   "metadata": {},
   "outputs": [],
   "source": [
    "import matplotlib.pyplot as plt\n",
    "import numpy as np\n",
    "import pandas as pd\n",
    "import os\n",
    "from sklearn.preprocessing import normalize, MinMaxScaler"
   ]
  },
  {
   "cell_type": "code",
   "execution_count": 11,
   "metadata": {},
   "outputs": [],
   "source": [
    "mitbih_dir = 'mitbih_database/';\n",
    "\n",
    "# Map the beat type to a unique index. \n",
    "beatTypes = {\n",
    "    'N': 0, \n",
    "    'L': 1, \n",
    "    'R': 2, \n",
    "    'A': 3, \n",
    "    'V': 4\n",
    "}"
   ]
  },
  {
   "cell_type": "code",
   "execution_count": 20,
   "metadata": {
    "scrolled": true
   },
   "outputs": [],
   "source": [
    "file_nums = np.append(np.arange(100,125),np.arange(200,235))\n",
    "\n",
    "\n",
    "numBeats_saved = 0;\n",
    "numBeats_all = 0;\n",
    "\n",
    "# 99.7 % of beats are shorter than this length. See histogram below. \n",
    "# Let's only use beats shorter than that, so we are't padding the rest of the beats with an excessive number of zeros. \n",
    "beatLen_cuttoff = 700; \n",
    "\n",
    "\n",
    "beats_list = np.zeros((100000,beatLen_cuttoff+1));\n",
    "beatLen_dist = np.zeros(120000,);\n",
    "\n",
    "\n",
    "\n",
    "for fNum in file_nums:\n",
    "    HB_signal_file = '%s%i.csv'%(mitbih_dir,fNum);\n",
    "    HB_info_file = '%s%iannotations.txt'%(mitbih_dir,fNum);\n",
    "    if os.path.exists(HB_signal_file): # A few of the file numbers are not included in the data base. \n",
    "        HB_info = pd.read_table(HB_info_file, delim_whitespace=True, engine='python');\n",
    "        HB_info = drop_rows(HB_info)\n",
    "        HB_signal = np.loadtxt(HB_signal_file,skiprows =1, delimiter=',');\n",
    "        HB_signal[:,1] = HB_signal[:,1] - np.median(HB_signal[:,1])\n",
    "        len_info = len(HB_info);\n",
    "        for ii in range(1,len_info-1):\n",
    "            beat_type = HB_info['#'].iloc[ii];\n",
    "            \n",
    "            \n",
    "            # determine when the beat starts and keep a little bit into the next beat. \n",
    "            # This window can be adjusted.  \n",
    "            start = int(HB_info['Sample'].iloc[ii] - (HB_info['Sample'].iloc[ii]-HB_info['Sample'].iloc[ii-1])*1  )\n",
    "            end  = int( (HB_info['Sample'].iloc[ii+1] - HB_info['Sample'].iloc[ii])/3 + HB_info['Sample'].iloc[ii] )\n",
    "            \n",
    "            # Extract the beat from the full heart rate signal.  \n",
    "            beat = HB_signal[start:end,1].reshape(-1,1)\n",
    "            \n",
    "            \n",
    "            # how long is the beat. \n",
    "            beatLen = len(beat);\n",
    "            \n",
    "            # build a distribution of the length of all beats.\n",
    "            # So that we can determine an appropriate cuttoff length. \n",
    "            beatLen_dist[numBeats_all] = beatLen;\n",
    "            numBeats_all += 1;\n",
    "            \n",
    "            # Store beats that arn't longer than the cuttoff \n",
    "            # and are one of the types we want to analyze.  \n",
    "            if len(beat) < beatLen_cuttoff and beat_type in beatTypes:\n",
    "                scaler = MinMaxScaler(feature_range=(0, 1))\n",
    "                scaler = scaler.fit(beat)\n",
    "                beat_norm = scaler.transform(beat)\n",
    "                beats_list[numBeats_saved, :beatLen] = beat_norm[:,0];\n",
    "                beats_list[numBeats_saved,-1] = beatTypes[beat_type];\n",
    "                numBeats_saved += 1;\n",
    "\n",
    "# Save the extracted beats for latter use. \n",
    "np.savetxt('beats_list.csv',beats_list[:numBeats_saved,:],delimiter=',')      #\n",
    "            \n",
    "        "
   ]
  },
  {
   "cell_type": "code",
   "execution_count": 19,
   "metadata": {},
   "outputs": [
    {
     "name": "stdout",
     "output_type": "stream",
     "text": [
      "Percent of beats longer than 700: 0.34%\n"
     ]
    },
    {
     "data": {
      "image/png": "[encoded data removed]",
      "text/plain": [
       "<Figure size 432x288 with 1 Axes>"
      ]
     },
     "metadata": {
      "needs_background": "light"
     },
     "output_type": "display_data"
    }
   ],
   "source": [
    "beatLen_dist = beatLen_dist[:numBeats_all];\n",
    "bins = np.arange(0,800,20);\n",
    "#print('Mean length of a beat: %i '%np.median(beatLen_dist))\n",
    "\n",
    "plt.hist(beatLen_dist, bins=bins);\n",
    "\n",
    "beatFrac = sum(beatLen_dist > beatLen_cuttoff)/len(beatLen_dist)*100;\n",
    "print('Percent of beats longer than 700: %0.2f%%'%beatFrac);"
   ]
  },
  {
   "cell_type": "code",
   "execution_count": 14,
   "metadata": {},
   "outputs": [],
   "source": [
    "#since rows with these labels don't correspond to an R-peak we want to drop them. \n",
    "def drop_rows(HB_info):\n",
    "    drop_symbols = ['+','~','!','|',']','[']\n",
    "    for symb in drop_symbols:\n",
    "        HB_info = HB_info[HB_info['#'] != symb]\n",
    "    return HB_info;\n"
   ]
  }
 ],
 "metadata": {
  "kernelspec": {
   "display_name": "Python 3",
   "language": "python",
   "name": "python3"
  },
  "language_info": {
   "codemirror_mode": {
    "name": "ipython",
    "version": 3
   },
   "file_extension": ".py",
   "mimetype": "text/x-python",
   "name": "python",
   "nbconvert_exporter": "python",
   "pygments_lexer": "ipython3",
   "version": "3.8.5"
  }
 },
 "nbformat": 4,
 "nbformat_minor": 4
}
